{
 "cells": [
  {
   "cell_type": "code",
   "execution_count": 72,
   "metadata": {},
   "outputs": [
    {
     "name": "stdout",
     "output_type": "stream",
     "text": [
      "aabbbccccdddddeeeeee"
     ]
    }
   ],
   "source": [
    "word=\"a2b3c4d5e6\";\n",
    "count=0;\n",
    "mul=0;\n",
    "for i in range(0,len(word)):\n",
    "    if count%2 == 0 and mul%2==0 :\n",
    "        for j in range(0,int(word[i+1])):\n",
    "                print(word[i], end = '')\n",
    "        count=count+1\n",
    "        mul=mul+1\n",
    "    elif mul%2==0:\n",
    "        for j in range(0,int(word[i+2])):\n",
    "                print(word[i+1], end = '')\n",
    "        count=count+1\n",
    "        print(\"end\")\n",
    "    else:\n",
    "           mul=mul+1\n",
    "           count=count+1\n",
    "\n",
    "         \n",
    "                \n",
    "                    \n",
    "                \n",
    "                \n",
    "    \n",
    "        \n",
    "\n",
    "            \n",
    "            \n",
    "            \n",
    "        \n",
    "        \n",
    "                \n",
    "                \n",
    "        \n",
    "            \n",
    "                \n",
    "               \n",
    "            \n",
    "        \n",
    "        \n",
    "        \n",
    "        \n",
    "   \n",
    "    \n",
    "    \n",
    "    \n",
    "         \n",
    "    \n",
    "    \n",
    "    "
   ]
  },
  {
   "cell_type": "code",
   "execution_count": 87,
   "metadata": {},
   "outputs": [
    {
     "name": "stdout",
     "output_type": "stream",
     "text": [
      "kerthi\n"
     ]
    }
   ],
   "source": [
    "word=\"keerthi\"\n",
    "newword=\"\"\n",
    "for i in range(0,len(word)):\n",
    "    if len(newword)==0:\n",
    "        newword=newword+word[i];\n",
    "    elif word[i] != newword[len(newword)-1]:\n",
    "        newword=newword+word[i]\n",
    "print(newword)                \n",
    "    \n"
   ]
  },
  {
   "cell_type": "code",
   "execution_count": null,
   "metadata": {},
   "outputs": [],
   "source": []
  },
  {
   "cell_type": "code",
   "execution_count": null,
   "metadata": {},
   "outputs": [],
   "source": []
  }
 ],
 "metadata": {
  "kernelspec": {
   "display_name": "Python 3",
   "language": "python",
   "name": "python3"
  },
  "language_info": {
   "codemirror_mode": {
    "name": "ipython",
    "version": 3
   },
   "file_extension": ".py",
   "mimetype": "text/x-python",
   "name": "python",
   "nbconvert_exporter": "python",
   "pygments_lexer": "ipython3",
   "version": "3.7.3"
  }
 },
 "nbformat": 4,
 "nbformat_minor": 4
}
