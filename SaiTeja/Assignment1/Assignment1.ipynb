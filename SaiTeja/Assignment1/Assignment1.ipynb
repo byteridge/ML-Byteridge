{
 "cells": [
  {
   "cell_type": "code",
   "execution_count": 1,
   "metadata": {},
   "outputs": [
    {
     "name": "stdout",
     "output_type": "stream",
     "text": [
      "Enter some texta1b5d2z6i1\n",
      "abbbbbddizzzzzz"
     ]
    }
   ],
   "source": [
    "datadict={}\n",
    "def SeparateKeyValues(data):\n",
    "    for i in range(0,len(data)-1,2):\n",
    "        datadict[str(data[i])]=data[i+1]\n",
    "        \n",
    "SeparateKeyValues(input(\"Enter some text \"))\n",
    "for key in sorted(datadict.keys()):\n",
    "    for i in range(0,int(datadict.get(key))):\n",
    "        print(key,end=\"\")"
   ]
  },
  {
   "cell_type": "code",
   "execution_count": 2,
   "metadata": {},
   "outputs": [
    {
     "name": "stdout",
     "output_type": "stream",
     "text": [
      "Enter some textsaiteja\n",
      "saitej\n"
     ]
    }
   ],
   "source": [
    "uniquelist=[]\n",
    "def FilterUnique(data):\n",
    "    for i in range(0,len(data)):\n",
    "        if str(data[i]).lower() not in uniquelist:\n",
    "            uniquelist.append(str(data[i]).lower())\n",
    "        \n",
    "FilterUnique(input(\"Enter some text \"))\n",
    "print(\"\".join(uniquelist))\n"
   ]
  }
 ],
 "metadata": {
  "kernelspec": {
   "display_name": "Python 3",
   "language": "python",
   "name": "python3"
  },
  "language_info": {
   "codemirror_mode": {
    "name": "ipython",
    "version": 3
   },
   "file_extension": ".py",
   "mimetype": "text/x-python",
   "name": "python",
   "nbconvert_exporter": "python",
   "pygments_lexer": "ipython3",
   "version": "3.7.4"
  }
 },
 "nbformat": 4,
 "nbformat_minor": 2
}
