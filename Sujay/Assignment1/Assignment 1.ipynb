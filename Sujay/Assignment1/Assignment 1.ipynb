{
 "cells": [
  {
   "cell_type": "code",
   "execution_count": null,
   "metadata": {},
   "outputs": [],
   "source": [
    "def convert(s): \n",
    "    str2 = \"\" \n",
    "    for x in s: \n",
    "        str2 += x  \n",
    "    return str2\n",
    "a=input(\"enter you value\")\n",
    "b=\"9\"\n",
    "c=\"0\"\n",
    "str=[]\n",
    "size=len(a)\n",
    "for i in range(0,size):\n",
    "    if ord(a[i])<=ord(b) :\n",
    "        if ord(a[i])>=ord(c) :\n",
    "            for j in range(0,int(a[i])-1):\n",
    "                str.append(a[i-1])\n",
    "    else :\n",
    "        str.append(a[i])\n",
    "str2 = convert(sorted(str))\n",
    "print(str2)"
   ]
  },
  {
   "cell_type": "code",
   "execution_count": 10,
   "metadata": {},
   "outputs": [
    {
     "name": "stdout",
     "output_type": "stream",
     "text": [
      "enter you value malayalam\n",
      "maly\n"
     ]
    }
   ],
   "source": [
    "def func(x):\n",
    "    i = j = len(x)\n",
    "    while i > 0:\n",
    "        i -= 1\n",
    "        if x[i] in x[0:i]:\n",
    "            x = x[0:i] + x[i + 1:]\n",
    "    print(x)\n",
    "\n",
    "str = input(\"enter you value \")\n",
    "func(str) "
   ]
  },
  {
   "cell_type": "code",
   "execution_count": null,
   "metadata": {},
   "outputs": [],
   "source": [
    "\n",
    "        "
   ]
  }
 ],
 "metadata": {
  "kernelspec": {
   "display_name": "Python 3",
   "language": "python",
   "name": "python3"
  },
  "language_info": {
   "codemirror_mode": {
    "name": "ipython",
    "version": 3
   },
   "file_extension": ".py",
   "mimetype": "text/x-python",
   "name": "python",
   "nbconvert_exporter": "python",
   "pygments_lexer": "ipython3",
   "version": "3.6.5"
  }
 },
 "nbformat": 4,
 "nbformat_minor": 2
}
